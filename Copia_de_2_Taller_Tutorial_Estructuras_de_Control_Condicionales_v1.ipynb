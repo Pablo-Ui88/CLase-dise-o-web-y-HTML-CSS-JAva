{
  "nbformat": 4,
  "nbformat_minor": 0,
  "metadata": {
    "colab": {
      "provenance": [],
      "include_colab_link": true
    },
    "kernelspec": {
      "name": "python3",
      "display_name": "Python 3"
    },
    "language_info": {
      "name": "python"
    }
  },
  "cells": [
    {
      "cell_type": "markdown",
      "metadata": {
        "id": "view-in-github",
        "colab_type": "text"
      },
      "source": [
        "<a href=\"https://colab.research.google.com/github/Pablo-Ui88/CLase-dise-o-web-y-HTML-CSS-JAva/blob/main/Copia_de_2_Taller_Tutorial_Estructuras_de_Control_Condicionales_v1.ipynb\" target=\"_parent\"><img src=\"https://colab.research.google.com/assets/colab-badge.svg\" alt=\"Open In Colab\"/></a>"
      ]
    },
    {
      "cell_type": "markdown",
      "source": [
        "# Sección 8: Estructuras de Control Condicionales - Tomando Decisiones 🛣️❓\n",
        "Hasta ahora, nuestros programas se ejecutan línea por línea, de arriba hacia abajo. Pero, ¿qué pasa si queremos que el programa haga una cosa en una situación y otra cosa diferente en otra situación? ¡Para eso están las estructuras condicionales! Nos permiten controlar el flujo de ejecución del programa basándose en si ciertas condiciones son verdaderas o falsas.\n",
        "\n",
        "Imagina que estás en un camino y llegas a una bifurcación. Dependiendo de la señal (la condición), tomarás el camino de la izquierda o el de la derecha.\n",
        "\n",
        "## 8.1 Sentencia ```if```: Si la Condición se Cumple... ✅\n",
        "La sentencia ```if``` (que significa \"si\" en inglés) es la estructura condicional más básica. Permite ejecutar un bloque de código solo si una condición específica es ```True```.\n",
        "\n",
        "**Sintaxis:**\n",
        "```\n",
        "if condicion_a_evaluar:\n",
        "    # Bloque de código que se ejecuta SI la condición_a_evaluar es True\n",
        "    # ¡Este bloque DEBE estar indentado (generalmente con 4 espacios)!\n",
        "    print(\"La condición es Verdadera.\")\n",
        "    # ... más instrucciones ...\n",
        "# El código que no está indentado se ejecuta después del if, sin importar la condición.\n",
        "print(\"Esto se ejecuta siempre, después del if.\")\n",
        "```\n",
        "- ```condicion_a_evaluar```: Es una expresión que Python evalúa como ```True``` o ```False```. Puede ser una comparación (```edad > 18```), una variable booleana (```es_valido```), o una combinación con operadores lógicos (```temperatura > 0 and temperatura < 100```).\n",
        "\n",
        "- El ```:``` (dos puntos) al final de la línea del ```if``` es obligatorio.\n",
        "\n",
        "- El bloque de código indentado debajo del ```if``` es lo que se ejecuta si la condición es ```True```. Si la condición es ```False```, este bloque se salta por completo.\n",
        "\n",
        "*Diagrama de Flujo (conceptual):*\n",
        "```\n",
        " +---------------------+\n",
        "        | ¿Condición es True? | --(Sí)--> [ Ejecutar bloque del if ] --+\n",
        "        +---------------------+                                        |\n",
        "                 | (No)                                                |\n",
        "                 +-----------------------------------------------------+\n",
        "                                         |\n",
        "                                [ Continuar con el resto del programa ]\n",
        "```\n",
        "**Ejemplos Prácticos:**"
      ],
      "metadata": {
        "id": "eGBBM7Yq3R92"
      }
    },
    {
      "cell_type": "code",
      "source": [
        "# Ejemplo 1: Verificar si un número es positivo\n",
        "numero = -15\n",
        "if numero > 0:\n",
        "    print(f\"El número {numero} es positivo.\")\n",
        "print(\"Fin del ejemplo 1.\")\n",
        "\n",
        "numero = -5\n",
        "if numero > 0: # Esta condición será False\n",
        "    print(f\"El número {numero} es positivo.\") # Esta línea NO se ejecutará\n",
        "print(\"Fin del ejemplo 1 con número negativo.\")\n",
        "\n",
        "\n",
        "# Ejemplo 2: Permitir acceso si es mayor de edad\n",
        "edad_cliente = int(input(\"Bienvenido/a, por favor ingresa tu edad: \"))\n",
        "\n",
        "if edad_cliente >= 18:\n",
        "    print(\"Acceso permitido. ¡Disfruta!\")\n",
        "    print(\"Puedes comprar bebidas alcohólicas.\")\n",
        "\n",
        "# Esta línea se ejecuta siempre, haya entrado o no al if.\n",
        "print(\"Gracias por visitarnos.\")"
      ],
      "metadata": {
        "id": "mkuPRtN74_3z",
        "colab": {
          "base_uri": "https://localhost:8080/"
        },
        "outputId": "a6057d37-6a26-4aaf-e293-e5c5502833cc"
      },
      "execution_count": null,
      "outputs": [
        {
          "output_type": "stream",
          "name": "stdout",
          "text": [
            "Fin del ejemplo 1.\n",
            "Fin del ejemplo 1 con número negativo.\n",
            "Bienvenido/a, por favor ingresa tu edad: 25\n",
            "Acceso permitido. ¡Disfruta!\n",
            "Puedes comprar bebidas alcohólicas.\n",
            "Gracias por visitarnos.\n"
          ]
        }
      ]
    },
    {
      "cell_type": "markdown",
      "source": [
        "## ¡A Tu Teclado! ⌨️\n",
        "\n",
        "## Ejercicio 8.1.1:\n",
        "Pide al usuario su calificación en un examen (un número). Si la calificación es mayor o igual a 3.0, imprime un mensaje que diga \"¡Felicidades, has aprobado!\"."
      ],
      "metadata": {
        "id": "k20kZ_2r5Mn_"
      }
    },
    {
      "cell_type": "code",
      "source": [
        "# Escribe tu código aquí\n",
        "# calificacion_texto = input(\"Ingresa tu calificación (ej: 4.5): \")\n",
        "# ...\n",
        "nota=float(input(\"Ingresa una nota\"))\n",
        "if nota>=3.0:\n",
        "  print(\"Felicidades , has aprobado. NotaFinal=\" ,nota)\n",
        "elif nota <3.0:\n",
        "  print(\"has reprobado el curso\")\n"
      ],
      "metadata": {
        "id": "E0UAHj4j5wWj",
        "colab": {
          "base_uri": "https://localhost:8080/"
        },
        "outputId": "7a7c43b0-9458-40a4-93d4-5b858c59883e"
      },
      "execution_count": null,
      "outputs": [
        {
          "output_type": "stream",
          "name": "stdout",
          "text": [
            "2.9\n",
            "has reprobado el curso\n"
          ]
        }
      ]
    },
    {
      "cell_type": "markdown",
      "source": [
        "### Ejercicio 8.1.2:\n",
        "Crea una variable ```temperatura_celsius``` con un valor, por ejemplo, ```25```. Si la temperatura es mayor a ```30```, imprime \"¡Hace mucho calor!\"."
      ],
      "metadata": {
        "id": "nQ7WxGQe54hS"
      }
    },
    {
      "cell_type": "code",
      "source": [
        "# Escribe tu código aquí\n",
        "# temperatura_celsius = 25\n",
        "# ...\n"
      ],
      "metadata": {
        "id": "sW3houai6MSY"
      },
      "execution_count": null,
      "outputs": []
    },
    {
      "cell_type": "markdown",
      "source": [
        "## 8.2 Sentencia ```if-else```: Si se Cumple... Si No... 🤷‍♂️🤷‍♀️\n",
        "A menudo, no solo queremos hacer algo si una condición es verdadera, sino también hacer algo diferente si es falsa. Para esto usamos la estructura ```if-else```.\n",
        "\n",
        "**Sintaxis:**\n",
        "```\n",
        "if condicion_a_evaluar:\n",
        "    # Bloque de código que se ejecuta SI la condición_a_evaluar es True\n",
        "    print(\"La condición es Verdadera.\")\n",
        "    # ... más instrucciones del if ...\n",
        "else:\n",
        "    # Bloque de código que se ejecuta SI la condición_a_evaluar es False\n",
        "    # ¡Este bloque TAMBIÉN DEBE estar indentado!\n",
        "    print(\"La condición es Falsa.\")\n",
        "    # ... más instrucciones del else ...\n",
        "\n",
        "print(\"Esto se ejecuta siempre, después del if-else.\")\n",
        "```"
      ],
      "metadata": {
        "id": "F8piILHv6Q9h"
      }
    },
    {
      "cell_type": "markdown",
      "source": [
        "- El bloque ```else``` (que significa \"si no\" o \"de lo contrario\") se ejecuta únicamente si la ```condicion_a_evaluar``` del ```if``` es ```False```.\n",
        "\n",
        "- Solo uno de los bloques (el del ```if``` o el del ```else```) se ejecutará, ¡nunca ambos!\n",
        "\n",
        "**Diagrama de Flujo (conceptual):**\n",
        "```\n",
        "        +---------------------+\n",
        "        | ¿Condición es True? | --(Sí)--> [ Ejecutar bloque del if ] ---+\n",
        "        +---------------------+                                         |\n",
        "                 | (No)                                                 |\n",
        "                 +--> [ Ejecutar bloque del else ] ---------------------+\n",
        "                                         |\n",
        "                                [ Continuar con el resto del programa ]\n",
        "```\n",
        "**Ejemplos Prácticos:**"
      ],
      "metadata": {
        "id": "5ClsWRdECMAN"
      }
    },
    {
      "cell_type": "code",
      "source": [
        "# Ejemplo 1: Número par o impar\n",
        "numero_evaluar = int(input(\"Ingresa un número entero para saber si es par o impar: \"))\n",
        "\n",
        "if numero_evaluar % 2 == 0: # Si el residuo de dividir por 2 es 0, es par\n",
        "    print(f\"El número {numero_evaluar} es PAR.\")\n",
        "else:\n",
        "    print(f\"El número {numero_evaluar} es IMPAR.\")\n",
        "\n",
        "# Ejemplo 2: Acceso a un evento\n",
        "edad_persona = 21\n",
        "if edad_persona >= 18:\n",
        "    mensaje_acceso = \"Bienvenido/a al evento.\"\n",
        "else:\n",
        "    mensaje_acceso = \"Lo sentimos, debes ser mayor de edad para ingresar.\"\n",
        "print(mensaje_acceso)"
      ],
      "metadata": {
        "id": "KYymSfi1ILGJ",
        "colab": {
          "base_uri": "https://localhost:8080/"
        },
        "outputId": "de1337ac-2754-4c1e-c6de-e9292b27b9bd"
      },
      "execution_count": null,
      "outputs": [
        {
          "output_type": "stream",
          "name": "stdout",
          "text": [
            "Bienvenido/a al evento.\n"
          ]
        }
      ]
    },
    {
      "cell_type": "markdown",
      "source": [
        "## ¡A Tu Teclado! ⌨️\n",
        "\n",
        "### Ejercicio 8.2.1:\n",
        "Pide al usuario una contraseña. Si la contraseña ingresada es igual a ```\"SENA2024\"```, imprime \"Acceso concedido\". De lo contrario (si es ```else```), imprime \"Contraseña incorrecta\"."
      ],
      "metadata": {
        "id": "rX2dZBZ4IYG-"
      }
    },
    {
      "cell_type": "code",
      "source": [
        "# Escribe tu código aquí\n",
        "# contrasena_correcta = \"SENA2024\"\n",
        "# ...\n",
        "# contrasena_correcta = \"SENA2024\"\n",
        "contrasena_correcta = \"SENA2024\"\n",
        "password = input(\"Digite su contraseña:\")\n",
        "\n",
        "if password == contrasena_correcta:\n",
        "  print(\"Acceso concedido\")\n",
        "else:\n",
        "  print(\"Contraseña incorrecta\")"
      ],
      "metadata": {
        "id": "kEEjAL9-IgJ8",
        "colab": {
          "base_uri": "https://localhost:8080/"
        },
        "outputId": "f10f61cd-c02e-4aa7-e87e-596a09344396"
      },
      "execution_count": null,
      "outputs": [
        {
          "output_type": "stream",
          "name": "stdout",
          "text": [
            "Digite su contraseña:Sena2024\n",
            "Contraseña incorrecta\n"
          ]
        }
      ]
    },
    {
      "cell_type": "markdown",
      "source": [
        "## Ejercicio 8.2.2:\n",
        "Pide al usuario la temperatura actual en grados Celsius.\n",
        "\n",
        "Si la temperatura es menor a 10 grados, imprime \"Hace frío, ¡abrígate!\".\n",
        "\n",
        "De lo contrario (si es ```else```), imprime \"La temperatura es agradable o cálida.\"."
      ],
      "metadata": {
        "id": "P8zKtFyOIzz8"
      }
    },
    {
      "cell_type": "code",
      "source": [
        "# Escribe tu código aquí\n",
        "# temperatura_actual_texto = input(\"Ingresa la temperatura actual en °C: \")\n",
        "# ...\n",
        "temperatura=int(input(\"ingresa la temperatura\"))\n",
        "if temperatura <= 10:\n",
        "  print(\"hace frio\")\n",
        "else:\n",
        "  print(\"clima agradable\")"
      ],
      "metadata": {
        "id": "Tqe1Qs-FQbS1",
        "colab": {
          "base_uri": "https://localhost:8080/"
        },
        "outputId": "e0960fab-5933-4f37-892b-ca10ee3dac5d"
      },
      "execution_count": null,
      "outputs": [
        {
          "output_type": "stream",
          "name": "stdout",
          "text": [
            "ingresa la temperatura10\n",
            "hace frio\n"
          ]
        }
      ]
    },
    {
      "cell_type": "markdown",
      "source": [
        "## 8.3 Sentencia ```if-elif-else```: Múltiples Caminos Posibles 🚦🗺️\n",
        "¿Qué pasa si tenemos más de dos posibilidades? Por ejemplo, clasificar una nota como \"Deficiente\", \"Aceptable\", \"Sobresaliente\" o \"Excelente\". Para esto, usamos ```if-elif-else```. ```elif``` es una abreviatura de ```else if```.\n",
        "\n",
        "**Sintaxis:**\n",
        "```\n",
        "if condicion1:\n",
        "    # Bloque si condicion1 es True\n",
        "    print(\"Se cumplió la condición 1.\")\n",
        "elif condicion2:\n",
        "    # Bloque si condicion1 es False Y condicion2 es True\n",
        "    print(\"No se cumplió la 1, pero sí la condición 2.\")\n",
        "elif condicion3:\n",
        "    # Bloque si condicion1 y condicion2 son False, Y condicion3 es True\n",
        "    print(\"No se cumplieron ni la 1 ni la 2, pero sí la condición 3.\")\n",
        "# ... puedes tener tantos elif como necesites ...\n",
        "else:\n",
        "    # Bloque si NINGUNA de las condiciones anteriores (if o elif) fue True\n",
        "    # Este bloque 'else' es opcional.\n",
        "    print(\"No se cumplió ninguna de las condiciones anteriores.\")\n",
        "\n",
        "print(\"Esto se ejecuta siempre, después de la estructura if-elif-else.\")\n",
        "```\n",
        "- Python evalúa las condiciones en orden, desde el ```if``` hacia abajo.\n",
        "\n",
        "- Tan pronto como encuentra una condición (```if``` o ```elif```) que es ```True```, ejecuta su bloque de código correspondiente y salta el resto de la estructura ```elif-else```.\n",
        "\n",
        "- Si ninguna condición del ```if``` o de los ```elif``` es ```True```, se ejecuta el bloque del ```else``` (si existe).\n",
        "\n",
        "**Diagrama de Flujo (conceptual para ```if-elif-else```):**\n",
        "```\n",
        "        +------------------+     (Sí)\n",
        "        | ¿Condición 1 es  | --------> [Bloque if] ----+\n",
        "        |      True?       |                           |\n",
        "        +------------------+                           |\n",
        "                 | (No)                                |\n",
        "        +------------------+     (Sí)                  |\n",
        "        | ¿Condición 2 es  | --------> [Bloque elif 1]-+\n",
        "        |      True?       |                           |\n",
        "        +------------------+                           |\n",
        "                 | (No)                                |\n",
        "                 ... (más elifs) ...                   |\n",
        "                 |                                     |\n",
        "        +------------------+                           |\n",
        "        | (Si hay else)    | --------> [Bloque else] --+\n",
        "        +------------------+                           |\n",
        "                                                       |\n",
        "                                    [Continuar programa]\n",
        "```\n",
        "**Ejemplos Prácticos:**"
      ],
      "metadata": {
        "id": "GXqcpGATQf3t"
      }
    },
    {
      "cell_type": "code",
      "source": [
        "# Ejemplo 1: Clasificar un número\n",
        "numero = 0\n",
        "# numero = int(input(\"Ingresa un número: \")) # Puedes descomentar para probar con entrada del usuario\n",
        "\n",
        "if numero > 0:\n",
        "    print(f\"El número {numero} es POSITIVO.\")\n",
        "elif numero < 0:\n",
        "    print(f\"El número {numero} es NEGATIVO.\")\n",
        "else:\n",
        "    print(f\"El número es CERO.\")\n",
        "\n",
        "\n",
        "# Ejemplo 2: Menú de opciones simple\n",
        "print(\"--- Bienvenido a la Cafetería SENA ---\")\n",
        "print(\"1. Tinto\")\n",
        "print(\"2. Café con Leche\")\n",
        "print(\"3. Aromática\")\n",
        "opcion_texto = input(\"Selecciona una opción (1, 2 o 3): \")\n",
        "opcion = int(opcion_texto)\n",
        "\n",
        "if opcion == 1:\n",
        "    print(\"Has seleccionado Tinto. ¡Excelente elección!\")\n",
        "    precio = 1000\n",
        "elif opcion == 2:\n",
        "    print(\"Has seleccionado Café con Leche. ¡Muy rico!\")\n",
        "    precio = 1500\n",
        "elif opcion == 3:\n",
        "    print(\"Has seleccionado Aromática. ¡Perfecto para relajarse!\")\n",
        "    precio = 800\n",
        "else:\n",
        "    print(\"Opción no válida. Por favor, selecciona 1, 2 o 3.\")\n",
        "    precio = 0 # O manejar el error de otra forma\n",
        "\n",
        "if precio > 0: # Solo mostramos precio si la opción fue válida\n",
        "    print(f\"El precio es: ${precio}\")\n"
      ],
      "metadata": {
        "id": "7nnGF__ZnlxW"
      },
      "execution_count": null,
      "outputs": []
    },
    {
      "cell_type": "markdown",
      "source": [
        "## ¡A Tu Teclado! ⌨️\n",
        "\n",
        "### Ejercicio 8.3.1:\n",
        "Pide al usuario una calificación numérica (de 0.0 a 5.0).\n",
        "\n",
        "- Si la calificación es menor a 3.0, imprime \"Reprobado\".\n",
        "\n",
        "- Si la calificación está entre 3.0 y 3.9 (inclusive), imprime \"Aceptable\".\n",
        "\n",
        "- Si la calificación está entre 4.0 y 4.5 (inclusive), imprime \"Sobresaliente\".\n",
        "\n",
        "- Si la calificación es mayor a 4.5 (y hasta 5.0), imprime \"Excelente\".\n",
        "\n",
        "- Considera añadir un ```else``` para calificaciones fuera del rango 0-5.\n",
        "\n",
        "Pista: Para rangos como \"entre 3.0 y 3.9\", puedes usar ```calificacion >= 3.0``` and ```calificacion <= 3.9``` en la condición del ```elif```."
      ],
      "metadata": {
        "id": "clDJA2YXnx_A"
      }
    },
    {
      "cell_type": "code",
      "source": [
        "# Escribe tu código aquí\n",
        "# calificacion_usuario_texto = input(\"Ingresa tu calificación (0.0 - 5.0): \")\n",
        "# ...\n",
        "calificacion = float(input(\"Ingresa tu calificación (0.0 - 5.0): \"))\n",
        "if calificacion < 3.0:\n",
        "    print(\"Reprobado\")\n",
        "elif calificacion >= 3.0 and calificacion < 4:\n",
        "    print(\"Aceptable\")\n",
        "elif calificacion >= 4 and calificacion <= 4.5:\n",
        "    print(\"Sobresaliente\")\n",
        "elif calificacion > 4.5 and calificacion <=5.0:\n",
        "        print(\"Excelente\")\n",
        "else:\n",
        "    print(\"Calificacion incorrecta\")"
      ],
      "metadata": {
        "id": "qI-gLNjqo1D2",
        "colab": {
          "base_uri": "https://localhost:8080/"
        },
        "outputId": "479f5217-e91f-4e7a-babe-221255002b74"
      },
      "execution_count": null,
      "outputs": [
        {
          "output_type": "stream",
          "name": "stdout",
          "text": [
            "Ingresa tu calificación (0.0 - 5.0): 5.0\n",
            "Excelente\n"
          ]
        }
      ]
    },
    {
      "cell_type": "markdown",
      "source": [
        "## Ejercicio 8.3.2:\n",
        "Pide al usuario que ingrese el nombre de un día de la semana (ej: \"lunes\", \"martes\", etc.).\n",
        "\n",
        "- Si es \"sabado\" o \"domingo\", imprime \"¡Es fin de semana!\".\n",
        "- Si es \"lunes\", imprime \"¡Ánimo, comienza la semana!\".\n",
        "- Para cualquier otro día (martes, miércoles, jueves, viernes), imprime \"Día de semana laboral/estudio.\"\n",
        "- Considera un ```else``` para entradas no válidas. (Para simplificar, asume que el usuario escribe en minúsculas)."
      ],
      "metadata": {
        "id": "krfTeTuko6q-"
      }
    },
    {
      "cell_type": "code",
      "source": [
        "# Escribe tu código aquí\n",
        "# dia_semana = input(\"Ingresa un día de la semana (en minúsculas): \")\n",
        "# ...\n",
        "dia = input('Ingresa un día de la semana: ')\n",
        "print(f'El dia que ingresaste fue: {dia}')\n",
        "\n",
        "dia = dia.lower()\n",
        "\n",
        "if dia == 'lunes':\n",
        "    print('¡Ánimo, acabo de comenzar la semana')\n",
        "elif dia == 'martes'or dia == 'miercoles' or dia == 'jueves' or dia == 'viernes':\n",
        "    print('¡Día de semana laboral/estudio!')\n",
        "elif dia == 'sabado' or dia == 'domingo':\n",
        "    print('¡Es fin de semana y el cuerpo lo sabe!')\n",
        "else:\n",
        "    print('Dia no valido, por favor ingrese otro dia')\n",
        "    print('Verifique que haya copiado bien el dia')"
      ],
      "metadata": {
        "id": "FqCqAum6o59P",
        "colab": {
          "base_uri": "https://localhost:8080/"
        },
        "outputId": "bbea731c-e7ba-473b-81d7-ab4a6e128958"
      },
      "execution_count": null,
      "outputs": [
        {
          "output_type": "stream",
          "name": "stdout",
          "text": [
            "Ingresa un día de la semana: Martes\n",
            "El dia que ingresaste fue: Martes\n",
            "¡Día de semana laboral/estudio!\n"
          ]
        }
      ]
    },
    {
      "cell_type": "markdown",
      "source": [
        "# 8.4 Lógica de ```AND```, ```OR``` y ```NOT``` en las Condiciones 🧩💡\n",
        "Ya vimos los operadores lógicos ```and```, ```or``` y ```not```. Son extremadamente útiles para construir condiciones más complejas y específicas dentro de nuestras estructuras ```if```, ```elif``` y ```else```.\n",
        "\n",
        "- ```and```: Útil cuando múltiples sub-condiciones deben ser verdaderas simultáneamente.\n",
        "\n",
        "   ```if edad >= 18 and tiene_licencia:```\n",
        "\n",
        "- ```or```: Útil cuando al menos una de varias sub-condiciones necesita ser verdadera.\n",
        "\n",
        "   ```if es_festivo or dia == \"domingo\":```\n",
        "\n",
        "- ```not```: Útil para invertir una condición.\n",
        "\n",
        "   ```if not esta_registrado:```\n",
        "\n",
        "**Ejemplos Prácticos:**"
      ],
      "metadata": {
        "id": "wAkurzdvpT52"
      }
    },
    {
      "cell_type": "code",
      "source": [
        "# Ejemplo 1: Acceso a un área restringida\n",
        "edad = 25\n",
        "es_empleado = True\n",
        "tiene_pase_especial = False\n",
        "\n",
        "# Condición para entrar: ser empleado Y mayor de 21, O tener un pase especial\n",
        "if (es_empleado and edad > 21) or tiene_pase_especial:\n",
        "    print(\"Acceso permitido al área restringida.\")\n",
        "else:\n",
        "    print(\"Acceso DENEGADO al área restringida.\")\n",
        "\n",
        "# Ejemplo 2: Beca para estudiantes\n",
        "promedio_notas = 4.2\n",
        "ingresos_familiares = 1500000 # en pesos\n",
        "\n",
        "# Condición para beca: promedio > 4.0 Y ingresos < 2000000\n",
        "if promedio_notas > 4.0 and ingresos_familiares < 2000000:\n",
        "    print(\"¡Felicidades! Cumples los requisitos para la beca.\")\n",
        "else:\n",
        "    print(\"No cumples todos los requisitos para la beca en este momento.\")\n",
        "\n",
        "# Ejemplo 3: Usando 'not'\n",
        "esta_lloviendo = False\n",
        "if not esta_lloviendo:\n",
        "    print(\"¡Perfecto! Podemos salir a jugar.\")\n",
        "else:\n",
        "    print(\"Mejor nos quedamos en casa, está lloviendo.\")"
      ],
      "metadata": {
        "id": "ADGjmiUPq731"
      },
      "execution_count": null,
      "outputs": []
    },
    {
      "cell_type": "markdown",
      "source": [
        "## ¡A Tu Teclado! ⌨️\n",
        "\n",
        "## Ejercicio 8.4.1:\n",
        "Pide al usuario su edad y si tiene carnet de biblioteca (```\"si\"``` o ```\"no\"```).\n",
        "Para pedir un libro especial, el usuario debe ser mayor de 15 años Y tener carnet de biblioteca.\n",
        "Imprime \"Puede solicitar el libro especial\" o \"No cumple los requisitos para el libro especial\"."
      ],
      "metadata": {
        "id": "F_ZPqE62rGRl"
      }
    },
    {
      "cell_type": "code",
      "source": [
        "# Escribe tu código aquí\n",
        "# edad_usuario_t = input(\"Ingresa tu edad: \")\n",
        "# tiene_carnet_t = input(\"¿Tienes carnet de biblioteca? (si/no): \")\n",
        "# ...\n",
        "edad_usuario_t=input(\"ingresa tu edad\")\n",
        "tiene_carnet_t=input(\"¿Tienes carnet de biblioteca? si/no: \")\n",
        "\n",
        "print(f'La edad del usuario es d{edad_usuario_t}\\nTiene carnet estudiantil? : {tiene_carnet}')\n",
        "\n"
      ],
      "metadata": {
        "id": "2gDWmij4rVqE"
      },
      "execution_count": null,
      "outputs": []
    },
    {
      "cell_type": "markdown",
      "source": [
        "## 8.5 Condicionales Anidados: Decisiones Dentro de Decisiones nesting\n",
        "Un condicional anidado ocurre cuando colocas una estructura ```if``` (o ```if-else```, ```if-elif-else```) dentro de otro bloque ```if```, ```elif``` o ```else```. Esto permite tomar decisiones más detalladas basadas en el resultado de una condición previa.\n",
        "\n",
        "**Sintaxis (Ejemplo):**"
      ],
      "metadata": {
        "id": "wpb0czB0rZ4M"
      }
    },
    {
      "cell_type": "code",
      "source": [
        "if condicion_exterior:\n",
        "    print(\"Se cumplió la condición exterior.\")\n",
        "    # Ahora, una decisión anidada:\n",
        "    if condicion_interior:\n",
        "        print(\"Y también se cumplió la condición interior.\")\n",
        "    else:\n",
        "        print(\"Pero NO se cumplió la condición interior.\")\n",
        "else:\n",
        "    print(\"No se cumplió la condición exterior.\")"
      ],
      "metadata": {
        "id": "_j2MRvrKr1bE"
      },
      "execution_count": null,
      "outputs": []
    },
    {
      "cell_type": "markdown",
      "source": [
        "**¡La indentación es CRUCIAL aquí!** Cada nivel de anidamiento requiere su propia indentación para que Python entienda la estructura.\n",
        "\n",
        "**Cuándo Usarlos:**\n",
        "Son útiles cuando una segunda decisión depende lógicamente de una primera. Por ejemplo, si un usuario es válido (```if usuario_valido:```), entonces verificas su contraseña (```if contrasena_correcta:```).\n",
        "\n",
        "**Advertencia:** Anidar demasiados niveles puede hacer que el código sea difícil de leer y entender. A veces, se puede reescribir usando operadores lógicos (```and```, ```or```) para evitar anidamientos profundos.\n",
        "\n",
        "**Ejemplos Prácticos:**"
      ],
      "metadata": {
        "id": "McyfFWt_0eMY"
      }
    },
    {
      "cell_type": "code",
      "source": [
        "# Ejemplo 1: Verificar usuario y luego tipo de usuario\n",
        "usuario_login = \"aprendizSENA\"\n",
        "contrasena_login = \"python123\"\n",
        "\n",
        "usuario_ingresado = input(\"Usuario: \")\n",
        "contrasena_ingresada = input(\"Contraseña: \")\n",
        "\n",
        "if usuario_ingresado == usuario_login:\n",
        "    print(\"Usuario correcto.\")\n",
        "    if contrasena_ingresada == contrasena_login:\n",
        "        print(\"¡Bienvenido/a de nuevo, aprendizSENA!\")\n",
        "        # Podríamos tener más ifs anidados aquí para roles (admin, estudiante, etc.)\n",
        "        es_admin = False # Simulación\n",
        "        if es_admin:\n",
        "            print(\"Tienes permisos de administrador.\")\n",
        "        else:\n",
        "            print(\"Tienes permisos de usuario estándar.\")\n",
        "    else:\n",
        "        print(\"Contraseña incorrecta.\")\n",
        "else:\n",
        "    print(\"Usuario no encontrado.\")\n",
        "\n",
        "\n",
        "# Ejemplo 2: Descuentos en una tienda\n",
        "valor_compra = float(input(\"Ingresa el valor total de tu compra: $\"))\n",
        "es_cliente_frecuente = input(\"¿Eres cliente frecuente? (si/no): \").lower() == \"si\" # .lower() convierte a minúscula\n",
        "\n",
        "descuento_aplicado = 0.0\n",
        "\n",
        "if valor_compra > 100000:\n",
        "    print(\"¡Compra mayor a $100,000!\")\n",
        "    if es_cliente_frecuente:\n",
        "        print(\"¡Y eres cliente frecuente! Doble descuento.\")\n",
        "        descuento_aplicado = 0.15 # 15% de descuento\n",
        "    else:\n",
        "        print(\"Descuento por compra grande.\")\n",
        "        descuento_aplicado = 0.05 # 5% de descuento\n",
        "else:\n",
        "    print(\"Tu compra no supera los $100,000 para descuentos especiales.\")\n",
        "    if es_cliente_frecuente:\n",
        "        print(\"Pero por ser cliente frecuente, tienes un pequeño descuento.\")\n",
        "        descuento_aplicado = 0.02 # 2% de descuento\n",
        "\n",
        "if descuento_aplicado > 0:\n",
        "    monto_descuento = valor_compra * descuento_aplicado\n",
        "    total_a_pagar = valor_compra - monto_descuento\n",
        "    print(f\"Descuento: ${monto_descuento:,.2f}\") # Formato para miles y decimales\n",
        "    print(f\"Total a pagar: ${total_a_pagar:,.2f}\")\n",
        "else:\n",
        "    print(f\"Total a pagar: ${valor_compra:,.2f}\")"
      ],
      "metadata": {
        "id": "qmmloi3F1BY8"
      },
      "execution_count": null,
      "outputs": []
    },
    {
      "cell_type": "markdown",
      "source": [
        "## ¡A Tu Teclado! ⌨️\n",
        "\n",
        "### Ejercicio 8.5.1:\n",
        "Pide al usuario un número entero.\n",
        "\n",
        "Primero, verifica si el número es positivo.\n",
        "\n",
        "Si es positivo, **entonces (anidado)** verifica si es par o impar e imprime el mensaje correspondiente (\"Es positivo y par\" o \"Es positivo e impar\").\n",
        "\n",
        "Si no es positivo (es decir, es cero o negativo), imprime \"El número no es positivo.\""
      ],
      "metadata": {
        "id": "JUqFDA3A1HZx"
      }
    },
    {
      "cell_type": "code",
      "source": [
        "# Escribe tu código aquí\n",
        "# numero_usr_txt = input(\"Ingresa un número entero: \")\n",
        "# ...\n",
        "numero=int(input(\"ingresa un numero entero\"))\n",
        "if numero >=0 :\n",
        "  print(\"es positivo\",numero>=0)\n",
        "elif numero<0:\n",
        "  print(numero>=0)\n",
        "\n",
        "if numero %2 == 0:\n",
        "  print(\"el numero es par\")\n",
        "else:\n",
        "  print(\"es Impar\")\n",
        "\n",
        "\n",
        "\n"
      ],
      "metadata": {
        "id": "kBrd8xmK1Sm_",
        "colab": {
          "base_uri": "https://localhost:8080/"
        },
        "outputId": "b00e113a-1cb2-4998-8a8e-59fed66b3cb9"
      },
      "execution_count": 2,
      "outputs": [
        {
          "output_type": "stream",
          "name": "stdout",
          "text": [
            "ingresa un numero entero7\n",
            "es positivo True\n",
            "es Impar\n"
          ]
        }
      ]
    },
    {
      "cell_type": "markdown",
      "source": [
        "## ¡Desafíate! 🤯\n",
        "\n",
        "### Reto 8.1: Pequeño Juego de Adivinanza de Número\n",
        "\n",
        "1. Define un número secreto (ej: ```numero_secreto = 7```).\n",
        "2. Pide al usuario que intente adivinar el número.\n",
        "3. Usa ```if-elif-else``` para decirle al usuario:\n",
        "  - Si adivinó el número (\"¡Felicidades! Adivinaste.\").\n",
        "  - Si el número que ingresó es mayor que el secreto (\"Muy alto, intenta de nuevo.\").\n",
        "  - Si el número que ingresó es menor que el secreto (\"Muy bajo, intenta de nuevo.\").\n",
        "\n",
        "### Reto 8.2 (Más Avanzado, combina varias cosas): Mini Calculadora\n",
        "\n",
        "1. Muestra un menú de operaciones:\n",
        "  - 1. Sumar\n",
        "  - 2. Restar\n",
        "  - 3. Multiplicar\n",
        "  - 4. Dividir\n",
        "\n",
        "2. Pide al usuario que elija una opción (_1-4_).\n",
        "3. Pide al usuario dos números.\n",
        "4. Usando ```if-elif-else``` según la opción elegida:\n",
        "  - Realiza la operación correspondiente.\n",
        "  - Muestra el resultado.\n",
        "  - **Importante para la división:** Si el usuario elige dividir y el segundo número es cero, debes mostrar un mensaje de error como \"No se puede dividir por cero\" en lugar de intentar la operación (esto requerirá un if anidado dentro de la opción de división).\n",
        "  - Si la opción no es válida (no es 1, 2, 3, o 4), muestra \"Opción no válida.\""
      ],
      "metadata": {
        "id": "s06Nwp2R1fmP"
      }
    },
    {
      "cell_type": "code",
      "source": [
        "# Escribe tu código para el Reto 8.1 o Reto 8.2 aquí\n",
        "# Para Reto 8.1:\n",
        "# numero_secreto = 7\n",
        "# ...\n",
        "\n",
        "\n",
        "numero_secreto = 77\n",
        "ultimo_intento = None  # para guardar el número anterior\n",
        "\n",
        "while True:\n",
        "    adiv = int(input(\"Intenta adivinar el número: \"))\n",
        "\n",
        "    if adiv == numero_secreto:\n",
        "        print(\"Has ganado\")\n",
        "        break\n",
        "    elif adiv != ultimo_intento:  # solo muestra si es diferente al anterior\n",
        "        if adiv > numero_secreto:\n",
        "            print(\"El número que ingresaste es muy alto\")\n",
        "        else:\n",
        "            print(\"El número que ingresaste es muy bajo\")\n",
        "    ultimo_intento = adiv\n",
        "\n",
        "\n",
        "\n",
        "# Para Reto 8.2:\n",
        "# print(\"--- Mini Calculadora ---\")\n",
        "# print(\"1. Sumar\")\n",
        "# ...\n",
        "\n",
        "print(\"1.Sumar\")\n",
        "print(\"2.Resta\")\n",
        "print(\"3.Multiplicación\")\n",
        "print(\"4.Division\")\n",
        "\n",
        "num=int(input(\"Ingresa un numero para seleccionar una operacion 1-4  \"))\n",
        "if num==1:\n",
        "  numa=int(input(\"ingresa el primer numero\"))\n",
        "  numb=int(input(\"ingresa el segundo numero\"))\n",
        "  numtot=numa+numb\n",
        "  print(\"resultado\",numtot)\n",
        "elif num==2:\n",
        "  numa=int(input(\"ingresa el primer numero\"))\n",
        "  numb=int(input(\"ingresa el segundo numero\"))\n",
        "  numtot=numa-numb\n",
        "  print(\"resultado\", numtot)\n",
        "elif num==3:\n",
        "  numa=int(input(\"ingresa el primer numero\"))\n",
        "  numb=int(input(\"ingresa el segundo numero\"))\n",
        "  numtot=numa*numb\n",
        "  print(\"resultado\", numtot)\n",
        "elif num==4:\n",
        "  numa=int(input(\"ingresa el primer numero\"))\n",
        "  numb=int(input(\"ingresa el segundo numero\"))\n",
        "  numtot=numa*numb\n",
        "  print(\"resultado\", numtot)\n",
        "else:\n",
        "  print(\"selecciona una opcion valida\")\n"
      ],
      "metadata": {
        "id": "qTblPXb623xP",
        "colab": {
          "base_uri": "https://localhost:8080/"
        },
        "outputId": "0633f27c-31a6-4ffb-90d9-ddbd0032768d"
      },
      "execution_count": 4,
      "outputs": [
        {
          "output_type": "stream",
          "name": "stdout",
          "text": [
            "Intenta adivinar el número: 3\n",
            "El número que ingresaste es muy bajo\n",
            "Intenta adivinar el número: 77\n",
            "Has ganado\n",
            "1.Sumar\n",
            "2.Resta\n",
            "3.Multiplicación\n",
            "4.Division\n",
            "Ingresa un numero para seleccionar una operacion 1-4  3\n",
            "ingresa el primer numero3\n",
            "ingresa el segundo numero1456\n",
            "resultado 4368\n"
          ]
        }
      ]
    },
    {
      "cell_type": "markdown",
      "source": [
        "¡Muy bien! Has cubierto una parte fundamental de la programación: cómo hacer que tus programas tomen decisiones y reaccionen de manera diferente a distintas situaciones. Los operadores y las estructuras condicionales son herramientas que usarás constantemente."
      ],
      "metadata": {
        "id": "dSrF4igg3D6_"
      }
    }
  ]
}